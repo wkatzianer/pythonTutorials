{
  "nbformat": 4,
  "nbformat_minor": 0,
  "metadata": {
    "colab": {
      "name": "Untitled0.ipynb",
      "version": "0.3.2",
      "provenance": [],
      "collapsed_sections": []
    },
    "kernelspec": {
      "name": "python3",
      "display_name": "Python 3"
    }
  },
  "cells": [
    {
      "metadata": {
        "id": "24sTvcVJGmU0",
        "colab_type": "text"
      },
      "cell_type": "markdown",
      "source": [
        "This lesson is taken from: [PracticePython.org](https://https://www.practicepython.org/exercise/2014/01/29/01-character-input.html).  Lesson 01 is character input"
      ]
    },
    {
      "metadata": {
        "id": "FpyDIwlVTiNe",
        "colab_type": "code",
        "colab": {
          "base_uri": "https://localhost:8080/",
          "height": 225
        },
        "outputId": "3bd08cce-8bb3-4610-9f75-84e3d3a60032"
      },
      "cell_type": "code",
      "source": [
        "name = input(\"Enter you name:  \")\n",
        "age = (input(\"Enter your age:  \"))\n",
        "\n",
        "print (\"Your name is \" + name)\n",
        "print (\"Your age is: \" + (age))\n",
        "solution1= (\"You will turn 100 in: \" + str(100- int(age)) + \" years\")\n",
        "print (solution1)\n",
        "\n",
        "age2 = input(\"Enter another number: \")\n",
        "\n",
        "print(int(age2) * solution1)\n",
        "\n",
        "print( int(age2) * ((solution1) + \"\\n\"))"
      ],
      "execution_count": 13,
      "outputs": [
        {
          "output_type": "stream",
          "text": [
            "Enter you name:  Me\n",
            "Enter your age:  43\n",
            "Your name is Me\n",
            "Your age is: 43\n",
            "You will turn 100 in: 57 years\n",
            "Enter another number: 3\n",
            "You will turn 100 in: 57 yearsYou will turn 100 in: 57 yearsYou will turn 100 in: 57 years\n",
            "You will turn 100 in: 57 years\n",
            "You will turn 100 in: 57 years\n",
            "You will turn 100 in: 57 years\n",
            "\n"
          ],
          "name": "stdout"
        }
      ]
    },
    {
      "metadata": {
        "id": "7obfZ2FGKdEk",
        "colab_type": "text"
      },
      "cell_type": "markdown",
      "source": [
        "This lesson is taken from: [PythonPractice.org Lesson 2](https://www.practicepython.org/exercise/2014/02/05/02-odd-or-even.html)"
      ]
    },
    {
      "metadata": {
        "id": "QqwlLJoSDvaZ",
        "colab_type": "code",
        "colab": {
          "base_uri": "https://localhost:8080/",
          "height": 149
        },
        "outputId": "d3f6c7ca-18f3-42e7-8139-7427b6a3bd3e"
      },
      "cell_type": "code",
      "source": [
        "num = input(\"Enter a number: \")\n",
        "testOddOrEven = int(num) % 2\n",
        "if(testOddOrEven==1):\n",
        "\tprint(\"Odd\\n\")\n",
        "else:\n",
        "\tprint(\"Even\\n\");\n",
        "  \n",
        "  # Extra part 1:\n",
        "testMod4 = int(num) % 4\n",
        "if(testMod4 == 0):\n",
        "\tprint(\"Multiple of 4\\n\")\n",
        "\n",
        "# Extra part 2:\n",
        "check = input(\"Enter a second number: \")\n",
        "testDivide = int(num) % int(check)\n",
        "if(testDivide==0):\n",
        "\tprint(\"Divides evenly\")\n",
        "else:\n",
        "\tprint(\"Does not divide evenly\")"
      ],
      "execution_count": 20,
      "outputs": [
        {
          "output_type": "stream",
          "text": [
            "Enter a number: 20\n",
            "Even\n",
            "\n",
            "Multiple of 4\n",
            "\n",
            "Enter a second number: 5\n",
            "Divides evenly\n"
          ],
          "name": "stdout"
        }
      ]
    },
    {
      "metadata": {
        "id": "aZY6UrQ4PqmQ",
        "colab_type": "text"
      },
      "cell_type": "markdown",
      "source": [
        "This lesson is taken from: [PythonPractice.org Lesson 3](https://www.practicepython.org/exercise/2014/02/15/03-list-less-than-ten.html)"
      ]
    },
    {
      "metadata": {
        "id": "VSn46WWXGGaS",
        "colab_type": "code",
        "colab": {
          "base_uri": "https://localhost:8080/",
          "height": 92
        },
        "outputId": "785f8e1a-f1b5-41db-be02-66aa874f7629"
      },
      "cell_type": "code",
      "source": [
        "a = [1, 1, 2, 3, 5, 8, 13, 21, 34, 55, 89]\n",
        "for val in a:\n",
        "\tif (val < 5):\n",
        "\t\tprint (\"\"+ str(val) +\" is less than 5\")"
      ],
      "execution_count": 28,
      "outputs": [
        {
          "output_type": "stream",
          "text": [
            "1 is less than 5\n",
            "1 is less than 5\n",
            "2 is less than 5\n",
            "3 is less than 5\n"
          ],
          "name": "stdout"
        }
      ]
    },
    {
      "metadata": {
        "id": "jcxY5Z2YHKd4",
        "colab_type": "code",
        "colab": {}
      },
      "cell_type": "code",
      "source": [
        ""
      ],
      "execution_count": 0,
      "outputs": []
    }
  ]
}