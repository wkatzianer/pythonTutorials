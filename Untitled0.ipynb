{
  "nbformat": 4,
  "nbformat_minor": 0,
  "metadata": {
    "colab": {
      "name": "Untitled0.ipynb",
      "version": "0.3.2",
      "provenance": [],
      "collapsed_sections": []
    },
    "kernelspec": {
      "name": "python3",
      "display_name": "Python 3"
    }
  },
  "cells": [
    {
      "metadata": {
        "id": "24sTvcVJGmU0",
        "colab_type": "text"
      },
      "cell_type": "markdown",
      "source": [
        "This lesson is taken from: [PracticePython.org](https://https://www.practicepython.org/exercise/2014/01/29/01-character-input.html).  Lesson 01 is character input"
      ]
    },
    {
      "metadata": {
        "id": "FpyDIwlVTiNe",
        "colab_type": "code",
        "colab": {
          "base_uri": "https://localhost:8080/",
          "height": 225
        },
        "outputId": "3bd08cce-8bb3-4610-9f75-84e3d3a60032"
      },
      "cell_type": "code",
      "source": [
        "name = input(\"Enter you name:  \")\n",
        "age = (input(\"Enter your age:  \"))\n",
        "\n",
        "print (\"Your name is \" + name)\n",
        "print (\"Your age is: \" + (age))\n",
        "solution1= (\"You will turn 100 in: \" + str(100- int(age)) + \" years\")\n",
        "print (solution1)\n",
        "\n",
        "age2 = input(\"Enter another number: \")\n",
        "\n",
        "print(int(age2) * solution1)\n",
        "\n",
        "print( int(age2) * ((solution1) + \"\\n\"))"
      ],
      "execution_count": 13,
      "outputs": [
        {
          "output_type": "stream",
          "text": [
            "Enter you name:  Me\n",
            "Enter your age:  43\n",
            "Your name is Me\n",
            "Your age is: 43\n",
            "You will turn 100 in: 57 years\n",
            "Enter another number: 3\n",
            "You will turn 100 in: 57 yearsYou will turn 100 in: 57 yearsYou will turn 100 in: 57 years\n",
            "You will turn 100 in: 57 years\n",
            "You will turn 100 in: 57 years\n",
            "You will turn 100 in: 57 years\n",
            "\n"
          ],
          "name": "stdout"
        }
      ]
    },
    {
      "metadata": {
        "id": "7obfZ2FGKdEk",
        "colab_type": "text"
      },
      "cell_type": "markdown",
      "source": [
        "This lesson is taken from: [PythonPractice.org Lesson 2](https://www.practicepython.org/exercise/2014/02/05/02-odd-or-even.html)"
      ]
    },
    {
      "metadata": {
        "id": "QqwlLJoSDvaZ",
        "colab_type": "code",
        "colab": {
          "base_uri": "https://localhost:8080/",
          "height": 149
        },
        "outputId": "d3f6c7ca-18f3-42e7-8139-7427b6a3bd3e"
      },
      "cell_type": "code",
      "source": [
        "num = input(\"Enter a number: \")\n",
        "testOddOrEven = int(num) % 2\n",
        "if(testOddOrEven==1):\n",
        "\tprint(\"Odd\\n\")\n",
        "else:\n",
        "\tprint(\"Even\\n\");\n",
        "  \n",
        "  # Extra part 1:\n",
        "testMod4 = int(num) % 4\n",
        "if(testMod4 == 0):\n",
        "\tprint(\"Multiple of 4\\n\")\n",
        "\n",
        "# Extra part 2:\n",
        "check = input(\"Enter a second number: \")\n",
        "testDivide = int(num) % int(check)\n",
        "if(testDivide==0):\n",
        "\tprint(\"Divides evenly\")\n",
        "else:\n",
        "\tprint(\"Does not divide evenly\")"
      ],
      "execution_count": 20,
      "outputs": [
        {
          "output_type": "stream",
          "text": [
            "Enter a number: 20\n",
            "Even\n",
            "\n",
            "Multiple of 4\n",
            "\n",
            "Enter a second number: 5\n",
            "Divides evenly\n"
          ],
          "name": "stdout"
        }
      ]
    },
    {
      "metadata": {
        "id": "aZY6UrQ4PqmQ",
        "colab_type": "text"
      },
      "cell_type": "markdown",
      "source": [
        "This lesson is taken from: [PythonPractice.org Lesson 3](https://www.practicepython.org/exercise/2014/02/15/03-list-less-than-ten.html)"
      ]
    },
    {
      "metadata": {
        "id": "VSn46WWXGGaS",
        "colab_type": "code",
        "colab": {}
      },
      "cell_type": "code",
      "source": [
        "a = [1, 1, 2, 3, 5, 8, 13, 21, 34, 55, 89]\n",
        "b = []\n",
        "for val in a:\n",
        "  if (val < 5):\n",
        "    print (\"\"+ str(val) +\" is less than 5\")\n",
        "    b.append(val)\n",
        "    \n",
        "# Now print the data\n",
        "for val in b:\n",
        "  print (val)"
      ],
      "execution_count": 0,
      "outputs": []
    },
    {
      "metadata": {
        "id": "Rgvnirrma_9o",
        "colab_type": "text"
      },
      "cell_type": "markdown",
      "source": [
        "This lesson is taken from: [PythonPractice.org Lesson 4 - Divisors](https://www.practicepython.org/exercise/2014/02/26/04-divisors.html)"
      ]
    },
    {
      "metadata": {
        "id": "jcxY5Z2YHKd4",
        "colab_type": "code",
        "colab": {
          "base_uri": "https://localhost:8080/",
          "height": 55
        },
        "outputId": "89479eb2-1a4e-4b8d-fe6a-10c74a84e19d"
      },
      "cell_type": "code",
      "source": [
        "num = int(input(\"Enter a number: \"))\n",
        "\n",
        "x = []\n",
        "divisorLoop = range(2,num)\n",
        "for val in divisorLoop:\n",
        "  if (num % val == 0):\n",
        "    x.append(val)\n",
        "\n",
        "\n",
        "print (x)"
      ],
      "execution_count": 8,
      "outputs": [
        {
          "output_type": "stream",
          "text": [
            "Enter a number: 26\n",
            "[2, 13]\n"
          ],
          "name": "stdout"
        }
      ]
    },
    {
      "metadata": {
        "id": "zcUn39lNeAwO",
        "colab_type": "text"
      },
      "cell_type": "markdown",
      "source": [
        "This lesson is taken from: [PythonPractice.org Lesson 5](https://www.practicepython.org/exercise/2014/03/05/05-list-overlap.html)"
      ]
    },
    {
      "metadata": {
        "id": "-_Ifqwa9cuqR",
        "colab_type": "code",
        "colab": {
          "base_uri": "https://localhost:8080/",
          "height": 36
        },
        "outputId": "80c36052-f45a-42bf-c239-94fdfcc69642"
      },
      "cell_type": "code",
      "source": [
        "a = [1, 1, 2, 3, 5, 8, 13, 21, 34, 55, 89]\n",
        "b = [1, 2, 3, 4, 5, 6, 7, 8, 9, 10, 11, 12, 13]\n",
        "\n",
        "c = [];\n",
        "\n",
        "for val in a:\n",
        "  if (val in b):    \n",
        "    c.append(val)\n",
        "    if (c.count(val) > 1):\n",
        "      c.pop()\n",
        "\n",
        "print(c)"
      ],
      "execution_count": 10,
      "outputs": [
        {
          "output_type": "stream",
          "text": [
            "[1, 2, 3, 5, 8, 13]\n"
          ],
          "name": "stdout"
        }
      ]
    },
    {
      "metadata": {
        "id": "E_Tfwc9MCsNE",
        "colab_type": "text"
      },
      "cell_type": "markdown",
      "source": [
        "This lesson is taken from [PythonPractice.org Lesson 6](https://www.practicepython.org/exercise/2014/03/12/06-string-lists.html)"
      ]
    },
    {
      "metadata": {
        "id": "w83uuUJ_gZN8",
        "colab_type": "code",
        "colab": {}
      },
      "cell_type": "code",
      "source": [
        "s = (input(\"Enter a string: \"))\n",
        "sRev = s[:0:-1]\n",
        "check = 0\n",
        "for val in x:\n",
        "  if (val != sRev):\n",
        "    check = 1 \n",
        "  \n",
        "if (check == 1):\n",
        "  print (\"This string, \" + s + \" is a palindrome\")\n"
      ],
      "execution_count": 0,
      "outputs": []
    },
    {
      "metadata": {
        "id": "lS3KuBkovdZW",
        "colab_type": "text"
      },
      "cell_type": "markdown",
      "source": [
        "This lesson is taken from [PracticePython.org Lesson 7](https://www.practicepython.org/exercise/2014/03/19/07-list-comprehensions.html)"
      ]
    },
    {
      "metadata": {
        "id": "yeIgXEdbld-L",
        "colab_type": "code",
        "colab": {}
      },
      "cell_type": "code",
      "source": [
        "a = [1, 4, 9, 16, 25, 36, 49, 64, 81, 100]\n",
        "\n",
        "x = [val for val in a if val % 2 == 0]\n",
        "print (x)"
      ],
      "execution_count": 0,
      "outputs": []
    },
    {
      "metadata": {
        "id": "P_NJ_fPMxq00",
        "colab_type": "text"
      },
      "cell_type": "markdown",
      "source": [
        "This lesson is taken from [PracticePython.org Lesson 8](https://www.practicepython.org/exercise/2014/03/26/08-rock-paper-scissors.html)\n",
        "\n",
        "The concept for this program is to emulate a Rocks/Paper/Scissors game\n",
        "\n"
      ]
    },
    {
      "metadata": {
        "id": "IUZN_dtM2uBA",
        "colab_type": "code",
        "colab": {}
      },
      "cell_type": "code",
      "source": [
        "def PlayRockPaperScissor():\n",
        "  user1 = input(\"Player 1 select Rock/Paper/Scissor: \")\n",
        "  user1 = user1.lower()\n",
        "  # Run through to test if they are valid first\n",
        "  user1 = CheckForRockPaperScissor(user1)\n",
        "    \n",
        "  user2 = input(\"Player 2 select Rock/Paper/Scissor: \")\n",
        "  user2 = user2.lower()\n",
        "  user2 = CheckForRockPaperScissor(user2)\n",
        "\n",
        "  print (\"Player 1 played: \" + str(user1) + \"\\n\")\n",
        "  print (\"Player 2 played: \" + str(user2) + \"\\n\")\n",
        "  CheckForWinner(user1, user2)\n",
        "  \n",
        "\n",
        "def CheckForRockPaperScissor(user):\n",
        "  while (user !=\"rock\" and user !=\"paper\" and user != \"scissor\"):\n",
        "    print (\"Invalid option.  Enter again: \")\n",
        "    user = input(\"Rock/Paper/Scissor: \")\n",
        "    if (user == \"rock\" or user == \"paper\" or user == \"scissor\"):\n",
        "      break\n",
        "  return user\n",
        "    \n",
        "\n",
        "def CheckForWinner(user1, user2):\n",
        "    # Win Conditions for player 1\n",
        "  if (user1 == \"rock\" and user2 == \"scissor\"):\n",
        "    print (\"Player 1 won\")\n",
        "  elif (user1 == \"scissor\" and user2 == \"paper\"):\n",
        "    print (\"Player 1 won\")\n",
        "  elif (user1 == \"paper\" and user2 == \"rock\"):\n",
        "    print (\"Player 1 won\")\n",
        "\n",
        "# Win Conditions for player 2\n",
        "  elif (user2 == \"rock\" and user1 == \"scissor\"):\n",
        "    print (\"Player 2 won\")\n",
        "  elif (user2 == \"scissor\" and user1 == \"paper\"):\n",
        "    print (\"Player 2 won\")\n",
        "  elif (user2 == \"paper\" and user1 == \"rock\"):\n",
        "    print (\"Player 2 won\")\n",
        "\n",
        "  elif user1 == user2:\n",
        "    print (\"Both players tied.\")"
      ],
      "execution_count": 0,
      "outputs": []
    },
    {
      "metadata": {
        "id": "_WP643vh4ygK",
        "colab_type": "code",
        "colab": {}
      },
      "cell_type": "code",
      "source": [
        "again = \"y\"\n",
        "while (again == \"y\"):\n",
        "  PlayRockPaperScissor()\n",
        "  again = input(\"Do you want to play again (y/n?)\")\n",
        "  if (again == \"n\"):\n",
        "    print (\"Thanks for playing\")\n",
        "    break\n",
        "    "
      ],
      "execution_count": 0,
      "outputs": []
    },
    {
      "metadata": {
        "id": "dE9woodPfOR7",
        "colab_type": "text"
      },
      "cell_type": "markdown",
      "source": [
        "This lesson is taken from: [PracticePython.org Lesson 9 - Guessing Game](https://www.practicepython.org/exercise/2014/04/02/09-guessing-game-one.html)"
      ]
    },
    {
      "metadata": {
        "id": "9IkvUnVD6fN8",
        "colab_type": "code",
        "colab": {}
      },
      "cell_type": "code",
      "source": [
        "def NumberGame (num):\n",
        "  guessCount = 0\n",
        "  userGuess = 0\n",
        "  while (userGuess != num):\n",
        "    userGuess = int(input(\"Enter a number from 1 to 9:  \"))\n",
        "    userGuess = ValidateInput(userGuess)\n",
        "    if (userGuess < num):\n",
        "      print (\"Too low\")\n",
        "    elif (userGuess > num):\n",
        "      print (\"Too high\")\n",
        "    else:\n",
        "      print (\"Correct!\")\n",
        "      guessCount = guessCount + 1\n",
        "      break\n",
        "    guessCount = guessCount+1\n",
        "\n",
        "  # Exit the loop and return how many guesses it took\n",
        "  return guessCount\n",
        "  \n",
        "\n",
        "def ValidateInput(userGuess):\n",
        "  while (userGuess < 1 or userGuess > 9):\n",
        "    print (\"Invalid option.  Please select a number between 1 and 9\")\n",
        "    userGuess = input(\"Enter a number from 1 to 9: \")\n",
        "\n",
        "  return userGuess"
      ],
      "execution_count": 0,
      "outputs": []
    },
    {
      "metadata": {
        "id": "foaL3vHtffpj",
        "colab_type": "code",
        "colab": {}
      },
      "cell_type": "code",
      "source": [
        "import random\n",
        "\n",
        "num = random.randint(1,9)\t# generate a random number between 1 and 9\n",
        "count = NumberGame(num)\n",
        "print (\"It took \" + str(count) + \" guesses.\")"
      ],
      "execution_count": 0,
      "outputs": []
    },
    {
      "metadata": {
        "id": "rkLPFd0ShCi3",
        "colab_type": "text"
      },
      "cell_type": "markdown",
      "source": [
        "This lesson is taken from [PracticePython.org Lesson 10 - List Overlap Comprehensions](https://www.practicepython.org/exercise/2014/04/10/10-list-overlap-comprehensions.html)"
      ]
    },
    {
      "metadata": {
        "id": "6_hNgk-_f4Kf",
        "colab_type": "code",
        "colab": {
          "base_uri": "https://localhost:8080/",
          "height": 92
        },
        "outputId": "a12f660d-5097-4489-e1b0-5c4b46e369ae"
      },
      "cell_type": "code",
      "source": [
        "\n",
        "a = [1, 1, 2, 3, 5, 8, 13, 21, 34, 55, 89]\n",
        "b = [1, 2, 3, 4, 5, 6, 7, 8, 9, 10, 11, 12, 13]\n",
        "x = []\n",
        "\n",
        "x = [val for val in a if val in b]\n",
        "print (\"Before: \")\n",
        "print (x)\n",
        "x = [val for val in x if x.count(val) == 1]\n",
        "print (\"After: \")\n",
        "print (x)"
      ],
      "execution_count": 22,
      "outputs": [
        {
          "output_type": "stream",
          "text": [
            "Before: \n",
            "[1, 1, 2, 3, 5, 8, 13]\n",
            "After: \n",
            "[2, 3, 5, 8, 13]\n"
          ],
          "name": "stdout"
        }
      ]
    },
    {
      "metadata": {
        "id": "WCnE4VpFrBsr",
        "colab_type": "text"
      },
      "cell_type": "markdown",
      "source": [
        "This lesson is taken from [PracticePython.org Lesson 11 - Check Primalities](https://www.practicepython.org/exercise/2014/04/16/11-check-primality-functions.html)"
      ]
    },
    {
      "metadata": {
        "id": "bj70R-nVj2U_",
        "colab_type": "code",
        "colab": {}
      },
      "cell_type": "code",
      "source": [
        "def CheckForPrime(num):\n",
        "  divisorLoop = range(2,num)\n",
        "  for val in divisorLoop:\n",
        "    if (num % val == 0):\n",
        "      return (0)\n",
        "  return (1) # Return 1 for a prime number"
      ],
      "execution_count": 0,
      "outputs": []
    },
    {
      "metadata": {
        "id": "qa0TP5d6kTWW",
        "colab_type": "code",
        "colab": {
          "base_uri": "https://localhost:8080/",
          "height": 55
        },
        "outputId": "8dd98d4e-9d7e-42c1-bd03-93d95af2fcd5"
      },
      "cell_type": "code",
      "source": [
        "num = int(input(\"Enter a number: \"))\n",
        "isPrime = CheckForPrime(num)\n",
        "if (isPrime):\n",
        "  print (\"\" + str(num) + \" is a prime number\")\n",
        "else:\n",
        "  print (\"\" + str(num) + \" is not a prime number\")"
      ],
      "execution_count": 5,
      "outputs": [
        {
          "output_type": "stream",
          "text": [
            "Enter a number: 11\n",
            "11 is a prime number\n"
          ],
          "name": "stdout"
        }
      ]
    },
    {
      "metadata": {
        "id": "yOorJHd3vlWp",
        "colab_type": "text"
      },
      "cell_type": "markdown",
      "source": [
        "This lesson is taken from: [PracticePython.org Lesson 12 - List Ends](https://www.practicepython.org/exercise/2014/04/25/12-list-ends.html)"
      ]
    },
    {
      "metadata": {
        "id": "UoRe_a9mukJh",
        "colab_type": "code",
        "colab": {}
      },
      "cell_type": "code",
      "source": [
        "x = [1, 2, 3, 4, 5]\n",
        "L = len(x)\n",
        "a = x[0::L-1]\n",
        "print (a)\n",
        "print (L)\n"
      ],
      "execution_count": 0,
      "outputs": []
    },
    {
      "metadata": {
        "id": "vy6a0CPNNZOB",
        "colab_type": "text"
      },
      "cell_type": "markdown",
      "source": [
        "This lesson is taken from: [PracticePython.org Lesson 13 - Fibonacci](https://www.practicepython.org/exercise/2014/04/30/13-fibonacci.html)"
      ]
    },
    {
      "metadata": {
        "id": "VTWVi_Mswju8",
        "colab_type": "code",
        "colab": {}
      },
      "cell_type": "code",
      "source": [
        "def Fibo (n, x):\n",
        "  y = x\n",
        "  for val in range(2, n):\n",
        "    tmp = x[val-2] + x[val-1]\n",
        "    y.append(tmp)\n",
        "  return (y)"
      ],
      "execution_count": 0,
      "outputs": []
    },
    {
      "metadata": {
        "id": "kyxZq5Ypwqce",
        "colab_type": "code",
        "colab": {
          "base_uri": "https://localhost:8080/",
          "height": 36
        },
        "outputId": "ef0e442a-aee1-4cc6-e43a-2a1013203d1e"
      },
      "cell_type": "code",
      "source": [
        "x = [1, 2]\n",
        "y = Fibo (7, x)\n",
        "print(y)"
      ],
      "execution_count": 21,
      "outputs": [
        {
          "output_type": "stream",
          "text": [
            "[1, 2, 3, 5, 8, 13, 21]\n"
          ],
          "name": "stdout"
        }
      ]
    },
    {
      "metadata": {
        "id": "UzEOykIsN0HG",
        "colab_type": "code",
        "colab": {}
      },
      "cell_type": "code",
      "source": [
        ""
      ],
      "execution_count": 0,
      "outputs": []
    }
  ]
}