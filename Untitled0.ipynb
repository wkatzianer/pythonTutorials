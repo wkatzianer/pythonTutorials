{
  "nbformat": 4,
  "nbformat_minor": 0,
  "metadata": {
    "colab": {
      "name": "Untitled0.ipynb",
      "version": "0.3.2",
      "provenance": [],
      "collapsed_sections": [],
      "include_colab_link": true
    },
    "kernelspec": {
      "name": "python3",
      "display_name": "Python 3"
    }
  },
  "cells": [
    {
      "cell_type": "markdown",
      "metadata": {
        "id": "view-in-github",
        "colab_type": "text"
      },
      "source": [
        "[View in Colaboratory](https://colab.research.google.com/github/wkatzianer/pythonTutorials/blob/master/Untitled0.ipynb)"
      ]
    },
    {
      "metadata": {
        "id": "24sTvcVJGmU0",
        "colab_type": "text"
      },
      "cell_type": "markdown",
      "source": [
        "This lesson is taken from: [PracticePython.org](https://https://www.practicepython.org/exercise/2014/01/29/01-character-input.html).  Lesson 01 is character input"
      ]
    },
    {
      "metadata": {
        "id": "FpyDIwlVTiNe",
        "colab_type": "code",
        "colab": {
          "base_uri": "https://localhost:8080/",
          "height": 225
        },
        "outputId": "3bd08cce-8bb3-4610-9f75-84e3d3a60032"
      },
      "cell_type": "code",
      "source": [
        "name = input(\"Enter you name:  \")\n",
        "age = (input(\"Enter your age:  \"))\n",
        "\n",
        "print (\"Your name is \" + name)\n",
        "print (\"Your age is: \" + (age))\n",
        "solution1= (\"You will turn 100 in: \" + str(100- int(age)) + \" years\")\n",
        "print (solution1)\n",
        "\n",
        "age2 = input(\"Enter another number: \")\n",
        "\n",
        "print(int(age2) * solution1)\n",
        "\n",
        "print( int(age2) * ((solution1) + \"\\n\"))"
      ],
      "execution_count": 0,
      "outputs": [
        {
          "output_type": "stream",
          "text": [
            "Enter you name:  Me\n",
            "Enter your age:  43\n",
            "Your name is Me\n",
            "Your age is: 43\n",
            "You will turn 100 in: 57 years\n",
            "Enter another number: 3\n",
            "You will turn 100 in: 57 yearsYou will turn 100 in: 57 yearsYou will turn 100 in: 57 years\n",
            "You will turn 100 in: 57 years\n",
            "You will turn 100 in: 57 years\n",
            "You will turn 100 in: 57 years\n",
            "\n"
          ],
          "name": "stdout"
        }
      ]
    },
    {
      "metadata": {
        "id": "7obfZ2FGKdEk",
        "colab_type": "text"
      },
      "cell_type": "markdown",
      "source": [
        "This lesson is taken from: [PythonPractice.org Lesson 2](https://www.practicepython.org/exercise/2014/02/05/02-odd-or-even.html)"
      ]
    },
    {
      "metadata": {
        "id": "QqwlLJoSDvaZ",
        "colab_type": "code",
        "colab": {
          "base_uri": "https://localhost:8080/",
          "height": 149
        },
        "outputId": "d3f6c7ca-18f3-42e7-8139-7427b6a3bd3e"
      },
      "cell_type": "code",
      "source": [
        "num = input(\"Enter a number: \")\n",
        "testOddOrEven = int(num) % 2\n",
        "if(testOddOrEven==1):\n",
        "\tprint(\"Odd\\n\")\n",
        "else:\n",
        "\tprint(\"Even\\n\");\n",
        "  \n",
        "  # Extra part 1:\n",
        "testMod4 = int(num) % 4\n",
        "if(testMod4 == 0):\n",
        "\tprint(\"Multiple of 4\\n\")\n",
        "\n",
        "# Extra part 2:\n",
        "check = input(\"Enter a second number: \")\n",
        "testDivide = int(num) % int(check)\n",
        "if(testDivide==0):\n",
        "\tprint(\"Divides evenly\")\n",
        "else:\n",
        "\tprint(\"Does not divide evenly\")"
      ],
      "execution_count": 0,
      "outputs": [
        {
          "output_type": "stream",
          "text": [
            "Enter a number: 20\n",
            "Even\n",
            "\n",
            "Multiple of 4\n",
            "\n",
            "Enter a second number: 5\n",
            "Divides evenly\n"
          ],
          "name": "stdout"
        }
      ]
    },
    {
      "metadata": {
        "id": "aZY6UrQ4PqmQ",
        "colab_type": "text"
      },
      "cell_type": "markdown",
      "source": [
        "This lesson is taken from: [PythonPractice.org Lesson 3](https://www.practicepython.org/exercise/2014/02/15/03-list-less-than-ten.html)"
      ]
    },
    {
      "metadata": {
        "id": "VSn46WWXGGaS",
        "colab_type": "code",
        "colab": {}
      },
      "cell_type": "code",
      "source": [
        "a = [1, 1, 2, 3, 5, 8, 13, 21, 34, 55, 89]\n",
        "b = []\n",
        "for val in a:\n",
        "  if (val < 5):\n",
        "    print (\"\"+ str(val) +\" is less than 5\")\n",
        "    b.append(val)\n",
        "    \n",
        "# Now print the data\n",
        "for val in b:\n",
        "  print (val)"
      ],
      "execution_count": 0,
      "outputs": []
    },
    {
      "metadata": {
        "id": "Rgvnirrma_9o",
        "colab_type": "text"
      },
      "cell_type": "markdown",
      "source": [
        "This lesson is taken from: [PythonPractice.org Lesson 4 - Divisors](https://www.practicepython.org/exercise/2014/02/26/04-divisors.html)"
      ]
    },
    {
      "metadata": {
        "id": "jcxY5Z2YHKd4",
        "colab_type": "code",
        "colab": {
          "base_uri": "https://localhost:8080/",
          "height": 55
        },
        "outputId": "89479eb2-1a4e-4b8d-fe6a-10c74a84e19d"
      },
      "cell_type": "code",
      "source": [
        "num = int(input(\"Enter a number: \"))\n",
        "\n",
        "x = []\n",
        "divisorLoop = range(2,num)\n",
        "for val in divisorLoop:\n",
        "  if (num % val == 0):\n",
        "    x.append(val)\n",
        "\n",
        "\n",
        "print (x)"
      ],
      "execution_count": 0,
      "outputs": [
        {
          "output_type": "stream",
          "text": [
            "Enter a number: 26\n",
            "[2, 13]\n"
          ],
          "name": "stdout"
        }
      ]
    },
    {
      "metadata": {
        "id": "zcUn39lNeAwO",
        "colab_type": "text"
      },
      "cell_type": "markdown",
      "source": [
        "This lesson is taken from: [PythonPractice.org Lesson 5](https://www.practicepython.org/exercise/2014/03/05/05-list-overlap.html)"
      ]
    },
    {
      "metadata": {
        "id": "-_Ifqwa9cuqR",
        "colab_type": "code",
        "colab": {
          "base_uri": "https://localhost:8080/",
          "height": 36
        },
        "outputId": "80c36052-f45a-42bf-c239-94fdfcc69642"
      },
      "cell_type": "code",
      "source": [
        "a = [1, 1, 2, 3, 5, 8, 13, 21, 34, 55, 89]\n",
        "b = [1, 2, 3, 4, 5, 6, 7, 8, 9, 10, 11, 12, 13]\n",
        "\n",
        "c = [];\n",
        "\n",
        "for val in a:\n",
        "  if (val in b):    \n",
        "    c.append(val)\n",
        "    if (c.count(val) > 1):\n",
        "      c.pop()\n",
        "\n",
        "print(c)"
      ],
      "execution_count": 0,
      "outputs": [
        {
          "output_type": "stream",
          "text": [
            "[1, 2, 3, 5, 8, 13]\n"
          ],
          "name": "stdout"
        }
      ]
    },
    {
      "metadata": {
        "id": "E_Tfwc9MCsNE",
        "colab_type": "text"
      },
      "cell_type": "markdown",
      "source": [
        "This lesson is taken from [PythonPractice.org Lesson 6](https://www.practicepython.org/exercise/2014/03/12/06-string-lists.html)"
      ]
    },
    {
      "metadata": {
        "id": "w83uuUJ_gZN8",
        "colab_type": "code",
        "colab": {}
      },
      "cell_type": "code",
      "source": [
        "s = (input(\"Enter a string: \"))\n",
        "sRev = s[:0:-1]\n",
        "check = 0\n",
        "for val in x:\n",
        "  if (val != sRev):\n",
        "    check = 1 \n",
        "  \n",
        "if (check == 1):\n",
        "  print (\"This string, \" + s + \" is a palindrome\")\n"
      ],
      "execution_count": 0,
      "outputs": []
    },
    {
      "metadata": {
        "id": "lS3KuBkovdZW",
        "colab_type": "text"
      },
      "cell_type": "markdown",
      "source": [
        "This lesson is taken from [PracticePython.org Lesson 7](https://www.practicepython.org/exercise/2014/03/19/07-list-comprehensions.html)"
      ]
    },
    {
      "metadata": {
        "id": "yeIgXEdbld-L",
        "colab_type": "code",
        "colab": {}
      },
      "cell_type": "code",
      "source": [
        "a = [1, 4, 9, 16, 25, 36, 49, 64, 81, 100]\n",
        "\n",
        "x = [val for val in a if val % 2 == 0]\n",
        "print (x)"
      ],
      "execution_count": 0,
      "outputs": []
    },
    {
      "metadata": {
        "id": "P_NJ_fPMxq00",
        "colab_type": "text"
      },
      "cell_type": "markdown",
      "source": [
        "This lesson is taken from [PracticePython.org Lesson 8](https://www.practicepython.org/exercise/2014/03/26/08-rock-paper-scissors.html)\n",
        "\n",
        "The concept for this program is to emulate a Rocks/Paper/Scissors game\n",
        "\n"
      ]
    },
    {
      "metadata": {
        "id": "IUZN_dtM2uBA",
        "colab_type": "code",
        "colab": {}
      },
      "cell_type": "code",
      "source": [
        "def PlayRockPaperScissor():\n",
        "  user1 = input(\"Player 1 select Rock/Paper/Scissor: \")\n",
        "  user1 = user1.lower()\n",
        "  # Run through to test if they are valid first\n",
        "  user1 = CheckForRockPaperScissor(user1)\n",
        "    \n",
        "  user2 = input(\"Player 2 select Rock/Paper/Scissor: \")\n",
        "  user2 = user2.lower()\n",
        "  user2 = CheckForRockPaperScissor(user2)\n",
        "\n",
        "  print (\"Player 1 played: \" + str(user1) + \"\\n\")\n",
        "  print (\"Player 2 played: \" + str(user2) + \"\\n\")\n",
        "  CheckForWinner(user1, user2)\n",
        "  \n",
        "\n",
        "def CheckForRockPaperScissor(user):\n",
        "  while (user !=\"rock\" and user !=\"paper\" and user != \"scissor\"):\n",
        "    print (\"Invalid option.  Enter again: \")\n",
        "    user = input(\"Rock/Paper/Scissor: \")\n",
        "    if (user == \"rock\" or user == \"paper\" or user == \"scissor\"):\n",
        "      break\n",
        "  return user\n",
        "    \n",
        "\n",
        "def CheckForWinner(user1, user2):\n",
        "    # Win Conditions for player 1\n",
        "  if (user1 == \"rock\" and user2 == \"scissor\"):\n",
        "    print (\"Player 1 won\")\n",
        "  elif (user1 == \"scissor\" and user2 == \"paper\"):\n",
        "    print (\"Player 1 won\")\n",
        "  elif (user1 == \"paper\" and user2 == \"rock\"):\n",
        "    print (\"Player 1 won\")\n",
        "\n",
        "# Win Conditions for player 2\n",
        "  elif (user2 == \"rock\" and user1 == \"scissor\"):\n",
        "    print (\"Player 2 won\")\n",
        "  elif (user2 == \"scissor\" and user1 == \"paper\"):\n",
        "    print (\"Player 2 won\")\n",
        "  elif (user2 == \"paper\" and user1 == \"rock\"):\n",
        "    print (\"Player 2 won\")\n",
        "\n",
        "  elif user1 == user2:\n",
        "    print (\"Both players tied.\")"
      ],
      "execution_count": 0,
      "outputs": []
    },
    {
      "metadata": {
        "id": "_WP643vh4ygK",
        "colab_type": "code",
        "colab": {}
      },
      "cell_type": "code",
      "source": [
        "again = \"y\"\n",
        "while (again == \"y\"):\n",
        "  PlayRockPaperScissor()\n",
        "  again = input(\"Do you want to play again (y/n?)\")\n",
        "  if (again == \"n\"):\n",
        "    print (\"Thanks for playing\")\n",
        "    break\n",
        "    "
      ],
      "execution_count": 0,
      "outputs": []
    },
    {
      "metadata": {
        "id": "dE9woodPfOR7",
        "colab_type": "text"
      },
      "cell_type": "markdown",
      "source": [
        "This lesson is taken from: [PracticePython.org Lesson 9 - Guessing Game](https://www.practicepython.org/exercise/2014/04/02/09-guessing-game-one.html)"
      ]
    },
    {
      "metadata": {
        "id": "9IkvUnVD6fN8",
        "colab_type": "code",
        "colab": {}
      },
      "cell_type": "code",
      "source": [
        "def NumberGame (num):\n",
        "  guessCount = 0\n",
        "  userGuess = 0\n",
        "  while (userGuess != num):\n",
        "    userGuess = int(input(\"Enter a number from 1 to 9:  \"))\n",
        "    userGuess = ValidateInput(userGuess)\n",
        "    if (userGuess < num):\n",
        "      print (\"Too low\")\n",
        "    elif (userGuess > num):\n",
        "      print (\"Too high\")\n",
        "    else:\n",
        "      print (\"Correct!\")\n",
        "      guessCount = guessCount + 1\n",
        "      break\n",
        "    guessCount = guessCount+1\n",
        "\n",
        "  # Exit the loop and return how many guesses it took\n",
        "  return guessCount\n",
        "  \n",
        "\n",
        "def ValidateInput(userGuess):\n",
        "  while (userGuess < 1 or userGuess > 9):\n",
        "    print (\"Invalid option.  Please select a number between 1 and 9\")\n",
        "    userGuess = input(\"Enter a number from 1 to 9: \")\n",
        "\n",
        "  return userGuess"
      ],
      "execution_count": 0,
      "outputs": []
    },
    {
      "metadata": {
        "id": "foaL3vHtffpj",
        "colab_type": "code",
        "colab": {}
      },
      "cell_type": "code",
      "source": [
        "import random\n",
        "\n",
        "num = random.randint(1,9)\t# generate a random number between 1 and 9\n",
        "count = NumberGame(num)\n",
        "print (\"It took \" + str(count) + \" guesses.\")"
      ],
      "execution_count": 0,
      "outputs": []
    },
    {
      "metadata": {
        "id": "rkLPFd0ShCi3",
        "colab_type": "text"
      },
      "cell_type": "markdown",
      "source": [
        "This lesson is taken from [PracticePython.org Lesson 10 - List Overlap Comprehensions](https://www.practicepython.org/exercise/2014/04/10/10-list-overlap-comprehensions.html)"
      ]
    },
    {
      "metadata": {
        "id": "6_hNgk-_f4Kf",
        "colab_type": "code",
        "colab": {
          "base_uri": "https://localhost:8080/",
          "height": 92
        },
        "outputId": "a12f660d-5097-4489-e1b0-5c4b46e369ae"
      },
      "cell_type": "code",
      "source": [
        "\n",
        "a = [1, 1, 2, 3, 5, 8, 13, 21, 34, 55, 89]\n",
        "b = [1, 2, 3, 4, 5, 6, 7, 8, 9, 10, 11, 12, 13]\n",
        "x = []\n",
        "\n",
        "x = [val for val in a if val in b]\n",
        "print (\"Before: \")\n",
        "print (x)\n",
        "x = [val for val in x if x.count(val) == 1]\n",
        "print (\"After: \")\n",
        "print (x)"
      ],
      "execution_count": 0,
      "outputs": [
        {
          "output_type": "stream",
          "text": [
            "Before: \n",
            "[1, 1, 2, 3, 5, 8, 13]\n",
            "After: \n",
            "[2, 3, 5, 8, 13]\n"
          ],
          "name": "stdout"
        }
      ]
    },
    {
      "metadata": {
        "id": "WCnE4VpFrBsr",
        "colab_type": "text"
      },
      "cell_type": "markdown",
      "source": [
        "This lesson is taken from [PracticePython.org Lesson 11 - Check Primalities](https://www.practicepython.org/exercise/2014/04/16/11-check-primality-functions.html)"
      ]
    },
    {
      "metadata": {
        "id": "bj70R-nVj2U_",
        "colab_type": "code",
        "colab": {}
      },
      "cell_type": "code",
      "source": [
        "def CheckForPrime(num):\n",
        "  divisorLoop = range(2,num)\n",
        "  for val in divisorLoop:\n",
        "    if (num % val == 0):\n",
        "      return (0)\n",
        "  return (1) # Return 1 for a prime number"
      ],
      "execution_count": 0,
      "outputs": []
    },
    {
      "metadata": {
        "id": "qa0TP5d6kTWW",
        "colab_type": "code",
        "colab": {
          "base_uri": "https://localhost:8080/",
          "height": 55
        },
        "outputId": "8dd98d4e-9d7e-42c1-bd03-93d95af2fcd5"
      },
      "cell_type": "code",
      "source": [
        "num = int(input(\"Enter a number: \"))\n",
        "isPrime = CheckForPrime(num)\n",
        "if (isPrime):\n",
        "  print (\"\" + str(num) + \" is a prime number\")\n",
        "else:\n",
        "  print (\"\" + str(num) + \" is not a prime number\")"
      ],
      "execution_count": 0,
      "outputs": [
        {
          "output_type": "stream",
          "text": [
            "Enter a number: 11\n",
            "11 is a prime number\n"
          ],
          "name": "stdout"
        }
      ]
    },
    {
      "metadata": {
        "id": "yOorJHd3vlWp",
        "colab_type": "text"
      },
      "cell_type": "markdown",
      "source": [
        "This lesson is taken from: [PracticePython.org Lesson 12 - List Ends](https://www.practicepython.org/exercise/2014/04/25/12-list-ends.html)"
      ]
    },
    {
      "metadata": {
        "id": "UoRe_a9mukJh",
        "colab_type": "code",
        "colab": {}
      },
      "cell_type": "code",
      "source": [
        "x = [1, 2, 3, 4, 5]\n",
        "L = len(x)\n",
        "a = x[0::L-1]\n",
        "print (a)\n",
        "print (L)\n"
      ],
      "execution_count": 0,
      "outputs": []
    },
    {
      "metadata": {
        "id": "vy6a0CPNNZOB",
        "colab_type": "text"
      },
      "cell_type": "markdown",
      "source": [
        "This lesson is taken from: [PracticePython.org Lesson 13 - Fibonacci](https://www.practicepython.org/exercise/2014/04/30/13-fibonacci.html)"
      ]
    },
    {
      "metadata": {
        "id": "VTWVi_Mswju8",
        "colab_type": "code",
        "colab": {}
      },
      "cell_type": "code",
      "source": [
        "def Fibo (n, x):\n",
        "  y = x\n",
        "  for val in range(2, n):\n",
        "    tmp = x[val-2] + x[val-1]\n",
        "    y.append(tmp)\n",
        "  return (y)"
      ],
      "execution_count": 0,
      "outputs": []
    },
    {
      "metadata": {
        "id": "kyxZq5Ypwqce",
        "colab_type": "code",
        "colab": {
          "base_uri": "https://localhost:8080/",
          "height": 36
        },
        "outputId": "ef0e442a-aee1-4cc6-e43a-2a1013203d1e"
      },
      "cell_type": "code",
      "source": [
        "x = [1, 2]\n",
        "y = Fibo (7, x)\n",
        "print(y)"
      ],
      "execution_count": 0,
      "outputs": [
        {
          "output_type": "stream",
          "text": [
            "[1, 2, 3, 5, 8, 13, 21]\n"
          ],
          "name": "stdout"
        }
      ]
    },
    {
      "metadata": {
        "id": "ttOL7pk8Tehn",
        "colab_type": "text"
      },
      "cell_type": "markdown",
      "source": [
        "Exercise 14 \n",
        "This lesson is taken from: [PracticePython.org](https://www.practicepython.org/exercise/2014/05/15/14-list-remove-duplicates.html)\n",
        "Write a program (function!) that takes a list and returns a new list that contains all the elements of the first list minus all the duplicates.\n",
        "\n",
        "Extras:\n",
        "\n",
        "    Write two different functions to do this - one using a loop and constructing a list, and another using sets.\n",
        "    Go back and do Exercise 5 using sets, and write the solution for that in a different function."
      ]
    },
    {
      "metadata": {
        "id": "UzEOykIsN0HG",
        "colab_type": "code",
        "colab": {
          "base_uri": "https://localhost:8080/",
          "height": 36
        },
        "outputId": "5fdb8b85-487a-45bd-f24c-510d34ad72a6"
      },
      "cell_type": "code",
      "source": [
        "def RemoveDuplicatesUsingSets(x):\n",
        "  y =set(x)\n",
        "  return (list(y))\n",
        "\n",
        "x = [1, 3, 3, 4, 6, 7, 7, 9]\n",
        "RemoveDuplicatesUsingSets(x)"
      ],
      "execution_count": 0,
      "outputs": [
        {
          "output_type": "execute_result",
          "data": {
            "text/plain": [
              "[1, 3, 4, 6, 7, 9]"
            ]
          },
          "metadata": {
            "tags": []
          },
          "execution_count": 2
        }
      ]
    },
    {
      "metadata": {
        "id": "VowehhVQUP_D",
        "colab_type": "text"
      },
      "cell_type": "markdown",
      "source": [
        "Exercise 15\n",
        "This lesson is taken from: [PracticePython.org - Lesson 15 - Reverse Word Order](https://www.practicepython.org/exercise/2014/05/21/15-reverse-word-order.html)"
      ]
    },
    {
      "metadata": {
        "id": "0ZrhBAozUHCV",
        "colab_type": "code",
        "colab": {
          "base_uri": "https://localhost:8080/",
          "height": 55
        },
        "outputId": "e9e605f1-f548-4d82-c07a-a1c1afb93d0c"
      },
      "cell_type": "code",
      "source": [
        "def ReverseWordOrder(longString):\n",
        "  tmp = longString.split()\t# Separate by whitespace\n",
        "  tmp = tmp[::-1]\n",
        "  return (\" \".join(tmp))\n",
        "\n",
        "longString = input (\"Enter a string containing multiple words: \")\n",
        "correctedString = ReverseWordOrder(longString)\n",
        "\n",
        "print (correctedString)"
      ],
      "execution_count": 0,
      "outputs": [
        {
          "output_type": "stream",
          "text": [
            "Enter a string containing multiple words: hi how are you\n",
            "you are how hi\n"
          ],
          "name": "stdout"
        }
      ]
    },
    {
      "metadata": {
        "id": "Ihw-Lehyg2C_",
        "colab_type": "text"
      },
      "cell_type": "markdown",
      "source": [
        "This lesson is taken from: [PracticePython.org - Lesson 16: Password Generator](\n",
        "https://www.practicepython.org/exercise/2014/05/28/16-password-generator.html)\n",
        "\n",
        "Write a password generator in Python. Be creative with how you generate passwords - strong passwords have a mix of lowercase letters, uppercase letters, numbers, and symbols. The passwords should be random, generating a new password every time the user asks for a new password. Include your run-time code in a main method.\n",
        "\n",
        "Extra:\n",
        "\n",
        "    Ask the user how strong they want their password to be. For weak passwords, pick a word or two from a list.\n"
      ]
    },
    {
      "metadata": {
        "id": "Ajy1XOLYUygU",
        "colab_type": "code",
        "colab": {}
      },
      "cell_type": "code",
      "source": [
        "def PasswordGenerator(n):\n",
        "  x = []\n",
        "  for val in range(1, n+1):\n",
        "    pw = random.randint(33,126)\n",
        "    x.append(chr(pw))\n",
        "  return x\n",
        "\n",
        "def TestPasswordStrength(password):\n",
        "  # Take the password, and loop through to test if it meets the following criteria:\n",
        "  # 2 lower case, 2 upper case, 2 special characters, 2 numeric\n",
        "  # If so, return 1.  0 otherwise\n",
        "  LCcheck = 0;\n",
        "  UPcheck = 0;\n",
        "  SCcheck = 0;\n",
        "  NMcheck = 0;\n",
        "\n",
        "  for val in password:\n",
        "    tmp = ord(val)\n",
        "    if ( tmp >= 48 and tmp <= 57):  # Numeric check\n",
        "      NMcheck = NMcheck + 1\n",
        "    elif (tmp >= 65 and tmp <= 90): # upper case check\n",
        "      UPcheck = UPcheck + 1\n",
        "    elif (tmp >= 97 and tmp <= 122):  # lower case check\n",
        "      LCcheck = LCcheck + 1\n",
        "    else:\t# Characters\n",
        "      SCcheck = SCcheck + 1\n",
        "    print (tmp, val)\n",
        "  \n",
        "  # Test whether or not the condition was met\n",
        "  if NMcheck >= 2 and UPcheck >= 2 and LCcheck >= 2 and SCcheck >= 2:\n",
        "    return 1\n",
        "  else:\n",
        "    return 0\n",
        "\n",
        "\n",
        "n = int( input( \"How many characters should the password be: \"))\n",
        "password = (PasswordGenerator(n))\n",
        "\n",
        "x = ''.join(password)\n",
        "print(x)\n",
        "if (TestPasswordStrength(x) == 1):\n",
        "    print (\"Password met criteria\")\n",
        "else:\n",
        "    print (\"Password failed to meet criteria\")"
      ],
      "execution_count": 0,
      "outputs": []
    },
    {
      "metadata": {
        "id": "ADC4I2RmjBNb",
        "colab_type": "code",
        "colab": {}
      },
      "cell_type": "code",
      "source": [
        "Lesson 17 Decode a Web Page\n",
        "https://www.practicepython.org/exercise/2014/06/06/17-decode-a-web-page.html"
      ],
      "execution_count": 0,
      "outputs": []
    },
    {
      "metadata": {
        "id": "iJ9d6F9-75Yb",
        "colab_type": "code",
        "colab": {
          "base_uri": "https://localhost:8080/",
          "height": 56
        },
        "outputId": "1b3ecaf3-4f24-4474-a256-dc82ca0f85c8"
      },
      "cell_type": "code",
      "source": [
        "from bs4 import BeautifulSoup\n",
        "import requests\n",
        "\n",
        "url = 'http://www.nytimes.com'\n",
        "r = requests.get(url)\n",
        "r_html = r.text\n",
        "\n",
        "# Now extract the title for the articles\n",
        "soup = BeautifulSoup(r_html)\n",
        "titles = soup.find_all(\"h2\")\t# Grabs all html under the \"h2\" class\n",
        "print (titles)\n",
        "\n"
      ],
      "execution_count": 0,
      "outputs": [
        {
          "output_type": "stream",
          "text": [
            "[<h2 class=\"css-1ypbx2a esl82me1\">Your Weekend Briefing</h2>, <h2 class=\"css-1ypbx2a esl82me1\">Sign Up for The Week in Good News</h2>, <h2 class=\"css-1ypbx2a esl82me1\">Got a confidential news tip?</h2>, <h2 class=\"css-sz16hw esl82me1\"><span>China Is Detaining Muslims in Vast Numbers. The Goal: ‘Transformation.’</span></h2>, <h2 class=\"css-78b01r esl82me1\"><span>Republican Officials See Weaknesses Ahead of Midterms</span></h2>, <h2 class=\"css-8uvv5f esl82me1\">Obama Heads to Front Lines of Democrats’ Battle to Reclaim House</h2>, <h2 class=\"css-8uvv5f esl82me1\">Cuomo Is on the Defensive After a Delayed Bridge Opening and a Political Mailer</h2>, <h2 class=\"css-78b01r esl82me1\"><span>‘That’s Not Right’: Williams Calls Out Sexism in Clashes With Umpire</span></h2>, <h2 class=\"css-8uvv5f esl82me1\">The Chair Umpire Who Clashed With Williams</h2>, <h2 class=\"css-8uvv5f esl82me1\">In Victory, Osaka Pushes Japan to Redefine Japanese</h2>, <h2 class=\"css-78b01r esl82me1\"><span>Medicaid Expansion Finds Grass-Roots Support in Utah</span></h2>, <h2 class=\"css-8uvv5f esl82me1\">Harvard Is Vaulting Workers Into the Middle Class With High Pay. Can Anyone Else Follow Its Lead?</h2>, <h2 class=\"css-8uvv5f esl82me1\">Is this a mid-1990s moment for the economy? Here are three reasons for optimism.</h2>, <h2 class=\"css-78b01r esl82me1\"><span>Moonves, Longtime CBS Chief, May Be Gone by Monday</span></h2>, <h2 class=\"css-sz16hw esl82me1\"><span>11 of Our Best Weekend Reads</span></h2>, <h2 class=\"css-8uvv5f esl82me1\">From environmentally friendly Lego to digital Braille: It’s The Week in Good News.</h2>, <h2 class=\"css-8uvv5f esl82me1\">To Restore Civil Society, Start With the Library</h2>, <h2 class=\"css-8uvv5f esl82me1\">Where Does Rabbi Voice Come From?</h2>, <h2 class=\"css-8uvv5f esl82me1\">The Republican Approach to Voter Fraud: Lie</h2>, <h2 class=\"css-8uvv5f esl82me1\">Thwarting Trump, or the Voters?</h2>, <h2 class=\"css-8uvv5f esl82me1\">Lady of the Rings: Jacinda Rules </h2>, <h2 class=\"css-8uvv5f esl82me1\">A Grim Endgame Looms in Syria</h2>, <h2 class=\"css-8uvv5f esl82me1\">3 Million People With Nowhere to Go</h2>, <h2 class=\"css-8uvv5f esl82me1\">The Rio Grande Is Dying. Does Anyone Care?</h2>, <h2 class=\"css-8uvv5f esl82me1\">What We Need to Fight the Next Financial Crisis</h2>, <h2 class=\"css-8uvv5f esl82me1\">How the Anonymous Op-Ed Came to Be</h2>, <h2 class=\"css-8uvv5f esl82me1\">Whose Religious Liberty Is It Anyway?</h2>, <h2 class=\"css-sz16hw esl82me1\"><span>A Dolphins Wide Receiver Carries Colin Kaepernick’s Torch by Continuing to Kneel</span></h2>, <h2 class=\"css-8uvv5f esl82me1\">Vows: Two Childhood Cancer Survivors Marry at St. Jude</h2>, <h2 class=\"css-8uvv5f esl82me1\">How Aicha Cherif, Student Activist, Spends Her Sundays</h2>, <h2 class=\"css-vz7hjd\" id=\"site-index-label\">Site Index</h2>, <h2 class=\"css-vz7hjd\">Site Information Navigation</h2>]\n"
          ],
          "name": "stdout"
        }
      ]
    },
    {
      "metadata": {
        "id": "ia-kmako7zIK",
        "colab_type": "text"
      },
      "cell_type": "markdown",
      "source": [
        ""
      ]
    },
    {
      "metadata": {
        "id": "FrHwCca6nuP1",
        "colab_type": "code",
        "colab": {}
      },
      "cell_type": "code",
      "source": [
        ""
      ],
      "execution_count": 0,
      "outputs": []
    },
    {
      "metadata": {
        "id": "cp0KlNc4Hc08",
        "colab_type": "text"
      },
      "cell_type": "markdown",
      "source": [
        "Exercise 18 Cows and Bulls\n",
        "This lesson is taken from: [PracticePython.org - Lesson 18](https://www.practicepython.org/exercise/2014/07/05/18-cows-and-bulls.html)"
      ]
    },
    {
      "metadata": {
        "id": "k9tyZSRXuAqo",
        "colab_type": "code",
        "colab": {}
      },
      "cell_type": "code",
      "source": [
        "import random\n",
        "\n",
        "def Create4DigitNumber():\n",
        "  x = []\n",
        "\n",
        "  x = random.sample(range(10), 4)\n",
        "\n",
        "  print('4 digit number has been created')\n",
        "  return(x);\n",
        "\n",
        "\n",
        "# This function checks to see if any digits occur at the exact spot\n",
        "def CheckCows(randomNumber, userInput):\n",
        "  cows = 0;\n",
        "  for val in range(0, 4):  \n",
        "    if (userInput[val] == randomNumber[val]):\n",
        "      cows = cows+1\n",
        "  return cows\n",
        "\n",
        "# This function test to see if a digit occurs but not at the exact spot\n",
        "def CheckBulls(randomNumber, userInput):\n",
        "  bulls = 0;\n",
        "  for varyUser in range(0, 4):\n",
        "    for varyNumber in range(0, 4):\n",
        "      if (userInput[varyUser] == randomNumber[varyNumber]):\n",
        "        if (varyUser != varyNumber):\n",
        "          bulls = bulls+1\n",
        "  return bulls\n",
        "\n",
        "# Play the actual game here\n",
        "def PlayGame(randomNumber):\n",
        "  totalCows = 0;\n",
        "  totalBulls =0;\n",
        "  strInput = (input('Guess a 4 digit number: '))\n",
        "  #userInput = [instrInput[0], strInput[1], strInput[2], strInput[3]]\n",
        "  userInput = [int(strInput[0]), int(strInput[1]), int(strInput[2]), int(strInput[3])]\n",
        "  #userInput = Create4DigitNumber()\n",
        "  print (userInput)\n",
        "  cows = CheckCows(randomNumber, userInput)\n",
        "  bulls = CheckBulls(randomNumber, userInput)\n",
        "\n",
        "  print ('' + str(cows) + ' cow(s), and ' + str(bulls) + ' bull(s)')\n",
        "  if (cows == 4):\n",
        "    print ('Correct!')\n",
        "    return 1\n",
        "  return 0\n",
        "\n",
        "\n",
        "# This calls the PlayGame function and loops through\n",
        "totalGuesses = 0\n",
        "gameSolved = 0\n",
        "randomNumber = Create4DigitNumber()\n",
        "while (gameSolved == 0):\n",
        "  totalGuesses = totalGuesses+1\n",
        "  gameSolved = PlayGame(randomNumber)\n",
        "print ('Game Solved in ' + str(totalGuesses) + ' guess(es)')"
      ],
      "execution_count": 0,
      "outputs": []
    },
    {
      "metadata": {
        "id": "ni-4SXO735fu",
        "colab_type": "text"
      },
      "cell_type": "markdown",
      "source": [
        "Exercise 19 Decode a Web Page 2\n",
        "This lesson is taken from [PracticePython.org - Lesson 19](https://www.practicepython.org/exercise/2014/07/14/19-decode-a-web-page-two.html)"
      ]
    },
    {
      "metadata": {
        "id": "uacS3OTqK9Pl",
        "colab_type": "code",
        "colab": {}
      },
      "cell_type": "code",
      "source": [
        "import requests\n",
        "import re\n",
        "url = 'https://www.vanityfair.com/style/society/2014/06/monica-lewinsky-humiliation-culture'\n",
        "r = requests.get(url)\n",
        "r_html = r.text\n",
        "\n",
        "# Now extract the title for the articles\n",
        "soup = BeautifulSoup(r_html)\n",
        "tag = \"data-reactid\"\n",
        "article = []\n",
        "for val in range(0, 320):\n",
        "  num = str(val)\n",
        "  paragraphs = soup.find_all(\"p\", attrs={tag: num})\n",
        "  if paragraphs:\n",
        "    #article.append(paragraphs)\n",
        "    paragraphs=str(paragraphs)\n",
        "    # Remove Leading html tag\n",
        "    htmlTag = ('[<p data-reactid=' + '\"' + num + '\">')\n",
        "   \n",
        "    re.sub( htmlTag | '</p>]' | '<em>' | '</em>' | 'm><strong>' | '<strong>' | '<a href=\"https://www.vanityfair.com/people/bill-clinton#intcid=dt-hot-link\">' | '</a>' | '</strong>' | '</em' | '<a href=\"https://www.vanityfair.com/magazine/1998/05/williams199805\">', \"\", paragraphs)\n",
        "    \n",
        "    \n",
        "    #paragraphs = paragraphs.lstrip( htmlTag)\n",
        "    # Remove </p> trailing html tag\n",
        "    #paragraphs = paragraphs.rstrip('</p>]')\n",
        "    #paragraphs = paragraphs.replace('<em>', \"\")\n",
        "    #paragraphs = paragraphs.replace('</em>', \"\")\n",
        "    #paragraphs = paragraphs.lstrip('m><strong>')\n",
        "    #paragraphs = paragraphs.replace('<strong>', \"\")\n",
        "    #paragraphs = paragraphs.replace('<a href=\"https://www.vanityfair.com/people/bill-clinton#intcid=dt-hot-link\">', \"\")\n",
        "    #paragraphs = paragraphs.replace('</a>', \"\")\n",
        "    #paragraphs = paragraphs.replace('</strong>', \"\")\n",
        "    #paragraphs = paragraphs.replace('</em', \"\")\n",
        "    #paragraphs = paragraphs.replace('<a href=\"https://www.vanityfair.com/magazine/1998/05/williams199805\">', \"\")\n",
        "    print(paragraphs)\n",
        "    \n",
        "#print(article)"
      ],
      "execution_count": 0,
      "outputs": []
    },
    {
      "metadata": {
        "id": "E_GoEr7RWkz2",
        "colab_type": "text"
      },
      "cell_type": "markdown",
      "source": [
        "Exercise 20 - Element Search\n",
        "This lesson is taken from: [PracticePython.org - Lesson 20](https://www.practicepython.org/exercise/2014/11/11/20-element-search.html)"
      ]
    },
    {
      "metadata": {
        "id": "FcVlR3iBRZFf",
        "colab_type": "code",
        "colab": {
          "base_uri": "https://localhost:8080/",
          "height": 72
        },
        "outputId": "4aecf248-cddf-417f-f0d7-01841ccacc5a"
      },
      "cell_type": "code",
      "source": [
        "import random\n",
        "list = random.sample(range(20), 10)\t# Create a list from 0 to 20\n",
        "print(list)\n",
        "list.sort()\t# Sort elements\n",
        "inList = 0\n",
        "tmp = 0\n",
        "x = random.randint(0, 20)\n",
        "print (str(x))\n",
        "for val in list:\n",
        "  if (x == val):\n",
        "    print ('' + str(x) + ' is in the list')\n"
      ],
      "execution_count": 0,
      "outputs": [
        {
          "output_type": "stream",
          "text": [
            "[2, 7, 18, 12, 3, 19, 0, 5, 13, 14]\n",
            "12\n",
            "12 is in the list\n"
          ],
          "name": "stdout"
        }
      ]
    },
    {
      "metadata": {
        "id": "CG4ZOGYiv6Wq",
        "colab_type": "text"
      },
      "cell_type": "markdown",
      "source": [
        "Exercise 21 - Write to a file\n",
        "This lesson is taken from: [PracticePython.org - Lesson 21](https://www.practicepython.org/exercise/2014/11/30/21-write-to-a-file.html)"
      ]
    },
    {
      "metadata": {
        "id": "IT_kE31gWttw",
        "colab_type": "code",
        "colab": {
          "base_uri": "https://localhost:8080/",
          "height": 55
        },
        "outputId": "390a611e-4d73-45bf-cc69-2456ed4dafd6"
      },
      "cell_type": "code",
      "source": [
        "# Part 1 is decode a web page\n",
        "import requests\n",
        "from bs4 import BeautifulSoup\n",
        "\n",
        "url = 'http://www.nytimes.com/'\n",
        "ttl_lst = []\n",
        "\n",
        "soup = BeautifulSoup(requests.get(url).text)\n",
        "title = soup.findAll('h2')\n",
        "#print(title)\n",
        "for row in title:\n",
        "  ttl_lst.append(row.text)\n",
        "print(ttl_lst)\n",
        "\n",
        "with open('decodedWebPage.txt', 'w') as open_file:\n",
        "  open_file.write(str(ttl_lst))\n"
      ],
      "execution_count": 41,
      "outputs": [
        {
          "output_type": "stream",
          "text": [
            "['First Deaths Are Reported as Florence Roars Inland', 'Hundreds of people have been rescued from the North Carolina city of New Bern since Thursday night, with 140 people still in need of help.', 'A 550-Mile-Wide Storm', 'Typhoon Mangkhut Slams Philippines', 'Full coverage: pictures from photojournalists on the ground, tracking the storms’ locations, and what to do if you can’t evacuate.', 'Your Evening Briefing', 'Sign Up: ‘Five Weeknight Dishes’', 'Got a confidential news tip?', 'Paul Manafort Agrees to Cooperate With Special Counsel; Pleads Guilty to Reduced Charges', 'Legal experts urged the release of a Watergate-era report to highlight the special counsel’s option of sending a grand jury report to Congress.', 'Read the Manafort court documents here.', 'The Insurgency Roared. But Cuomo Prevailed.', 'What Went Wrong for Cynthia Nixon?', 'Why the Left Couldn’t Take the Top of the Ticket in New York', 'Primary Season Is (Finally) Over. Here Are 5 Things We Learned. ', 'Women Have Won More Primaries Than Ever Before. Will They Set a Record in November?', 'Democrats are taking aim at a Republican stronghold: evangelicals.', 'A Dallas Police Officer Shot Her Neighbor, and a City Is Full of Questions', 'Letter Describes Attempted Assault by a Teenage Brett Kavanaugh', 'Many Ways to Be a Girl, but One Way to Be a Boy: The New Gender Rules ', 'Welcome to the President’s Rat Pack, Paul Manafort', 'The Hacking of America', 'Money Is Corrupting Medical Research', 'Julia Salazar, the Left’s Post-Truth Politician', 'Change Comes to Albany, if Not the Governor’s Mansion', 'Paul Manafort Folds. Now What?', 'Young Americans, What Do You Think About the Kavanaugh Confirmation?', 'This Is Not the End of Trump', 'The Shame of the MeToo Men', 'The People’s Republic of Cruelty', 'The Secret to Cracking Trump’s Base', 'Why William Jackson Harper of ‘The Good Place’ Can’t Quit the Theater', 'Overwatch Bets Gaming Fans Will Cheer for the Home Team to Save the World', 'The Shows I’m Afraid to Look Forward To', 'Site Index', 'Site Information Navigation']\n"
          ],
          "name": "stdout"
        }
      ]
    },
    {
      "metadata": {
        "id": "7KEUBApeXO8w",
        "colab_type": "code",
        "colab": {}
      },
      "cell_type": "code",
      "source": [
        ""
      ],
      "execution_count": 0,
      "outputs": []
    },
    {
      "metadata": {
        "id": "WwpGJrAbcyCq",
        "colab_type": "text"
      },
      "cell_type": "markdown",
      "source": [
        ""
      ]
    },
    {
      "metadata": {
        "id": "rwfh8V_EXwmV",
        "colab_type": "code",
        "colab": {}
      },
      "cell_type": "code",
      "source": [
        ""
      ],
      "execution_count": 0,
      "outputs": []
    },
    {
      "metadata": {
        "id": "yeQW6_p_X0m6",
        "colab_type": "code",
        "colab": {}
      },
      "cell_type": "code",
      "source": [
        ""
      ],
      "execution_count": 0,
      "outputs": []
    }
  ]
}